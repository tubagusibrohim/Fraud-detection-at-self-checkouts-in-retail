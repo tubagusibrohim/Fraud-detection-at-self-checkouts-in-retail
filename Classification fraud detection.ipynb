{
  "nbformat": 4,
  "nbformat_minor": 0,
  "metadata": {
    "colab": {
      "name": "Welcome To Colaboratory",
      "provenance": [],
      "collapsed_sections": [],
      "include_colab_link": true
    },
    "kernelspec": {
      "display_name": "Python 3",
      "name": "python3"
    }
  },
  "cells": [
    {
      "cell_type": "markdown",
      "metadata": {
        "id": "view-in-github",
        "colab_type": "text"
      },
      "source": [
        "<a href=\"https://colab.research.google.com/github/tubagusibrohim/Fraud-detection-at-self-checkouts-in-retail/blob/main/Classification%20fraud%20detection.ipynb\" target=\"_parent\"><img src=\"https://colab.research.google.com/assets/colab-badge.svg\" alt=\"Open In Colab\"/></a>"
      ]
    },
    {
      "cell_type": "markdown",
      "metadata": {
        "id": "NJR1gb2e4UCo"
      },
      "source": [
        "# Latar Belakang"
      ]
    },
    {
      "cell_type": "markdown",
      "metadata": {
        "id": "Nqrr8O8W4egR"
      },
      "source": [
        "Pada notebook ini akan digunakan dataset [Fraud detection at self-checkouts in retail](https://www.data-mining-cup.com/reviews/dmc-2019/) dari Data Mining Cup 2019 untuk membuat model yang dapat mendeteksi fraud berdasarkan atribut yang ada."
      ]
    },
    {
      "cell_type": "markdown",
      "metadata": {
        "id": "caNWuFRP5Tvo"
      },
      "source": [
        "# Import dan preprocessing data"
      ]
    },
    {
      "cell_type": "code",
      "metadata": {
        "id": "NNLBDoPo5aTO"
      },
      "source": [
        "import pandas as pd\r\n",
        "import numpy as np\r\n",
        "import warnings"
      ],
      "execution_count": 4,
      "outputs": []
    },
    {
      "cell_type": "code",
      "metadata": {
        "id": "1FEBD1AU5v03",
        "outputId": "b168b6e4-88d6-4155-9c18-2e4e5b0461aa",
        "colab": {
          "base_uri": "https://localhost:8080/",
          "height": 244
        }
      },
      "source": [
        "# Load dataset\r\n",
        "df = pd.read_csv('https://raw.githubusercontent.com/tubagusibrohim/Fraud-detection-at-self-checkouts-in-retail/main/trainfraud.csv')\r\n",
        "\r\n",
        "# Bentuk dataset\r\n",
        "print('Shape of dataframe:', df.shape)\r\n",
        "df.head()"
      ],
      "execution_count": 5,
      "outputs": [
        {
          "output_type": "stream",
          "text": [
            "Shape of dataframe: (1879, 10)\n"
          ],
          "name": "stdout"
        },
        {
          "output_type": "execute_result",
          "data": {
            "text/html": [
              "<div>\n",
              "<style scoped>\n",
              "    .dataframe tbody tr th:only-of-type {\n",
              "        vertical-align: middle;\n",
              "    }\n",
              "\n",
              "    .dataframe tbody tr th {\n",
              "        vertical-align: top;\n",
              "    }\n",
              "\n",
              "    .dataframe thead th {\n",
              "        text-align: right;\n",
              "    }\n",
              "</style>\n",
              "<table border=\"1\" class=\"dataframe\">\n",
              "  <thead>\n",
              "    <tr style=\"text-align: right;\">\n",
              "      <th></th>\n",
              "      <th>trustLevel</th>\n",
              "      <th>totalScanTimeInSeconds</th>\n",
              "      <th>grandTotal</th>\n",
              "      <th>lineItemVoids</th>\n",
              "      <th>scansWithoutRegistration</th>\n",
              "      <th>quantityModifications</th>\n",
              "      <th>scannedLineItemsPerSecond</th>\n",
              "      <th>valuePerSecond</th>\n",
              "      <th>lineItemVoidsPerPosition</th>\n",
              "      <th>fraud</th>\n",
              "    </tr>\n",
              "  </thead>\n",
              "  <tbody>\n",
              "    <tr>\n",
              "      <th>0</th>\n",
              "      <td>5</td>\n",
              "      <td>1054</td>\n",
              "      <td>54.70</td>\n",
              "      <td>7</td>\n",
              "      <td>0</td>\n",
              "      <td>3</td>\n",
              "      <td>0.027514</td>\n",
              "      <td>0.051898</td>\n",
              "      <td>0.241379</td>\n",
              "      <td>0</td>\n",
              "    </tr>\n",
              "    <tr>\n",
              "      <th>1</th>\n",
              "      <td>3</td>\n",
              "      <td>108</td>\n",
              "      <td>27.36</td>\n",
              "      <td>5</td>\n",
              "      <td>2</td>\n",
              "      <td>4</td>\n",
              "      <td>0.129630</td>\n",
              "      <td>0.253333</td>\n",
              "      <td>0.357143</td>\n",
              "      <td>0</td>\n",
              "    </tr>\n",
              "    <tr>\n",
              "      <th>2</th>\n",
              "      <td>3</td>\n",
              "      <td>1516</td>\n",
              "      <td>62.16</td>\n",
              "      <td>3</td>\n",
              "      <td>10</td>\n",
              "      <td>5</td>\n",
              "      <td>0.008575</td>\n",
              "      <td>0.041003</td>\n",
              "      <td>0.230769</td>\n",
              "      <td>0</td>\n",
              "    </tr>\n",
              "    <tr>\n",
              "      <th>3</th>\n",
              "      <td>6</td>\n",
              "      <td>1791</td>\n",
              "      <td>92.31</td>\n",
              "      <td>8</td>\n",
              "      <td>4</td>\n",
              "      <td>4</td>\n",
              "      <td>0.016192</td>\n",
              "      <td>0.051541</td>\n",
              "      <td>0.275862</td>\n",
              "      <td>0</td>\n",
              "    </tr>\n",
              "    <tr>\n",
              "      <th>4</th>\n",
              "      <td>5</td>\n",
              "      <td>430</td>\n",
              "      <td>81.53</td>\n",
              "      <td>3</td>\n",
              "      <td>7</td>\n",
              "      <td>2</td>\n",
              "      <td>0.062791</td>\n",
              "      <td>0.189605</td>\n",
              "      <td>0.111111</td>\n",
              "      <td>0</td>\n",
              "    </tr>\n",
              "  </tbody>\n",
              "</table>\n",
              "</div>"
            ],
            "text/plain": [
              "   trustLevel  totalScanTimeInSeconds  ...  lineItemVoidsPerPosition  fraud\n",
              "0           5                    1054  ...                  0.241379      0\n",
              "1           3                     108  ...                  0.357143      0\n",
              "2           3                    1516  ...                  0.230769      0\n",
              "3           6                    1791  ...                  0.275862      0\n",
              "4           5                     430  ...                  0.111111      0\n",
              "\n",
              "[5 rows x 10 columns]"
            ]
          },
          "metadata": {
            "tags": []
          },
          "execution_count": 5
        }
      ]
    },
    {
      "cell_type": "code",
      "metadata": {
        "id": "qcH_W6Dmqf3I",
        "outputId": "650d1680-e9b6-414c-8a13-a4dcedf66216",
        "colab": {
          "base_uri": "https://localhost:8080/"
        }
      },
      "source": [
        "df.dtypes"
      ],
      "execution_count": 16,
      "outputs": [
        {
          "output_type": "execute_result",
          "data": {
            "text/plain": [
              "trustLevel                     int64\n",
              "totalScanTimeInSeconds         int64\n",
              "grandTotal                   float64\n",
              "lineItemVoids                  int64\n",
              "scansWithoutRegistration       int64\n",
              "quantityModifications          int64\n",
              "scannedLineItemsPerSecond    float64\n",
              "valuePerSecond               float64\n",
              "lineItemVoidsPerPosition     float64\n",
              "fraud                          int64\n",
              "dtype: object"
            ]
          },
          "metadata": {
            "tags": []
          },
          "execution_count": 16
        }
      ]
    },
    {
      "cell_type": "markdown",
      "metadata": {
        "id": "WsoyAgW2rOLG"
      },
      "source": [
        "Dikarenakan tipe data berbeda , maka akan disamakan dengan fungsi `astype ()`"
      ]
    },
    {
      "cell_type": "code",
      "metadata": {
        "id": "3D9fnnc5q3pt"
      },
      "source": [
        "df = df = df.astype(int)"
      ],
      "execution_count": 22,
      "outputs": []
    },
    {
      "cell_type": "code",
      "metadata": {
        "id": "a4EZr_vnq4eQ",
        "outputId": "efba52dd-38db-49fe-8bec-a97272699bd9",
        "colab": {
          "base_uri": "https://localhost:8080/"
        }
      },
      "source": [
        "df.dtypes"
      ],
      "execution_count": 23,
      "outputs": [
        {
          "output_type": "execute_result",
          "data": {
            "text/plain": [
              "trustLevel                   int64\n",
              "totalScanTimeInSeconds       int64\n",
              "grandTotal                   int64\n",
              "lineItemVoids                int64\n",
              "scansWithoutRegistration     int64\n",
              "quantityModifications        int64\n",
              "scannedLineItemsPerSecond    int64\n",
              "valuePerSecond               int64\n",
              "lineItemVoidsPerPosition     int64\n",
              "fraud                        int64\n",
              "dtype: object"
            ]
          },
          "metadata": {
            "tags": []
          },
          "execution_count": 23
        }
      ]
    },
    {
      "cell_type": "markdown",
      "metadata": {
        "id": "zLI7-fCQ5lYz"
      },
      "source": [
        "Sebelum membuat model akan dilakukan preprocessing data yang bertujuan untuk menjadikan data lebih akurat dan bagus"
      ]
    },
    {
      "cell_type": "markdown",
      "metadata": {
        "id": "eZTgwPVAoBs2"
      },
      "source": [
        "## Missing Value\r\n",
        "Dalam beberapa kasus, data  mungkin memiliki nilai yang hilang di beberapa kolom, ini dapat disebabkan oleh beberapa alasan seperti kesalahan manusia. Kita bisa menggunakan fungsi is_null () dari library Pandas untuk memeriksa data yang hilang dan kemudian menggunakan fungsi sum () untuk melihat total nilai yang hilang di setiap kolom."
      ]
    },
    {
      "cell_type": "code",
      "metadata": {
        "id": "AXMFrypToSRv",
        "outputId": "312bce55-9a8d-41a7-fff9-63f0f9675cc8",
        "colab": {
          "base_uri": "https://localhost:8080/"
        }
      },
      "source": [
        "df.isnull().sum()"
      ],
      "execution_count": 24,
      "outputs": [
        {
          "output_type": "execute_result",
          "data": {
            "text/plain": [
              "trustLevel                   0\n",
              "totalScanTimeInSeconds       0\n",
              "grandTotal                   0\n",
              "lineItemVoids                0\n",
              "scansWithoutRegistration     0\n",
              "quantityModifications        0\n",
              "scannedLineItemsPerSecond    0\n",
              "valuePerSecond               0\n",
              "lineItemVoidsPerPosition     0\n",
              "fraud                        0\n",
              "dtype: int64"
            ]
          },
          "metadata": {
            "tags": []
          },
          "execution_count": 24
        }
      ]
    },
    {
      "cell_type": "markdown",
      "metadata": {
        "id": "sYT320S7obP-"
      },
      "source": [
        "Dari hasil tersebut saya dapat yakin bahwa data tidak memiliki nilai yang hilang dan siap digunakan."
      ]
    },
    {
      "cell_type": "markdown",
      "metadata": {
        "id": "8Hhs3OSlmrHx"
      },
      "source": [
        "## Distribusi Kelas\r\n",
        "Dalam kasus ini di mana kelas yang diharapkan dibagi menjadi dua hasil, '1 = ya' dan '0 = tidak', distribusi kelas 80:20 dapat dianggap ideal."
      ]
    },
    {
      "cell_type": "code",
      "metadata": {
        "id": "JsiDMqZJmgjm",
        "outputId": "fa6f440c-926a-4b78-e7a2-e0aea05a3329",
        "colab": {
          "base_uri": "https://localhost:8080/"
        }
      },
      "source": [
        "df['fraud'].value_counts()"
      ],
      "execution_count": 25,
      "outputs": [
        {
          "output_type": "execute_result",
          "data": {
            "text/plain": [
              "0    1775\n",
              "1     104\n",
              "Name: fraud, dtype: int64"
            ]
          },
          "metadata": {
            "tags": []
          },
          "execution_count": 25
        }
      ]
    },
    {
      "cell_type": "markdown",
      "metadata": {
        "id": "xQgiUUBTntVx"
      },
      "source": [
        "Dikarenakan jumlahnya bisa dibilang 1 : 100 , maka kelas menjadi unbalanced atau tidak seimbang , maka perlu dilakukan proses untuk menghasilkan model yang lebih baik."
      ]
    },
    {
      "cell_type": "markdown",
      "metadata": {
        "id": "dHoieZxPosJb"
      },
      "source": [
        "## Scale Numeric Data\r\n",
        "Saya akan menskalakan data numerik untuk menghindari kehadiran outlier yang dapat memengaruhi model kami secara signifikan.\r\n",
        "Menggunakan fungsi `StandardScaler ()` dari sklearn dapat menskalakan setiap kolom yang berisi data numerik."
      ]
    },
    {
      "cell_type": "code",
      "metadata": {
        "id": "js8hvagppnJq",
        "outputId": "b2386f7a-7f86-4637-bca9-f86a82c69612",
        "colab": {
          "base_uri": "https://localhost:8080/",
          "height": 444
        }
      },
      "source": [
        "# Mengcopy dataset\r\n",
        "df_ready = df.copy()\r\n",
        "df_ready = df_ready.drop(['fraud'],axis=1)\r\n",
        "df_ready"
      ],
      "execution_count": 26,
      "outputs": [
        {
          "output_type": "execute_result",
          "data": {
            "text/html": [
              "<div>\n",
              "<style scoped>\n",
              "    .dataframe tbody tr th:only-of-type {\n",
              "        vertical-align: middle;\n",
              "    }\n",
              "\n",
              "    .dataframe tbody tr th {\n",
              "        vertical-align: top;\n",
              "    }\n",
              "\n",
              "    .dataframe thead th {\n",
              "        text-align: right;\n",
              "    }\n",
              "</style>\n",
              "<table border=\"1\" class=\"dataframe\">\n",
              "  <thead>\n",
              "    <tr style=\"text-align: right;\">\n",
              "      <th></th>\n",
              "      <th>trustLevel</th>\n",
              "      <th>totalScanTimeInSeconds</th>\n",
              "      <th>grandTotal</th>\n",
              "      <th>lineItemVoids</th>\n",
              "      <th>scansWithoutRegistration</th>\n",
              "      <th>quantityModifications</th>\n",
              "      <th>scannedLineItemsPerSecond</th>\n",
              "      <th>valuePerSecond</th>\n",
              "      <th>lineItemVoidsPerPosition</th>\n",
              "    </tr>\n",
              "  </thead>\n",
              "  <tbody>\n",
              "    <tr>\n",
              "      <th>0</th>\n",
              "      <td>5</td>\n",
              "      <td>1054</td>\n",
              "      <td>54</td>\n",
              "      <td>7</td>\n",
              "      <td>0</td>\n",
              "      <td>3</td>\n",
              "      <td>0</td>\n",
              "      <td>0</td>\n",
              "      <td>0</td>\n",
              "    </tr>\n",
              "    <tr>\n",
              "      <th>1</th>\n",
              "      <td>3</td>\n",
              "      <td>108</td>\n",
              "      <td>27</td>\n",
              "      <td>5</td>\n",
              "      <td>2</td>\n",
              "      <td>4</td>\n",
              "      <td>0</td>\n",
              "      <td>0</td>\n",
              "      <td>0</td>\n",
              "    </tr>\n",
              "    <tr>\n",
              "      <th>2</th>\n",
              "      <td>3</td>\n",
              "      <td>1516</td>\n",
              "      <td>62</td>\n",
              "      <td>3</td>\n",
              "      <td>10</td>\n",
              "      <td>5</td>\n",
              "      <td>0</td>\n",
              "      <td>0</td>\n",
              "      <td>0</td>\n",
              "    </tr>\n",
              "    <tr>\n",
              "      <th>3</th>\n",
              "      <td>6</td>\n",
              "      <td>1791</td>\n",
              "      <td>92</td>\n",
              "      <td>8</td>\n",
              "      <td>4</td>\n",
              "      <td>4</td>\n",
              "      <td>0</td>\n",
              "      <td>0</td>\n",
              "      <td>0</td>\n",
              "    </tr>\n",
              "    <tr>\n",
              "      <th>4</th>\n",
              "      <td>5</td>\n",
              "      <td>430</td>\n",
              "      <td>81</td>\n",
              "      <td>3</td>\n",
              "      <td>7</td>\n",
              "      <td>2</td>\n",
              "      <td>0</td>\n",
              "      <td>0</td>\n",
              "      <td>0</td>\n",
              "    </tr>\n",
              "    <tr>\n",
              "      <th>...</th>\n",
              "      <td>...</td>\n",
              "      <td>...</td>\n",
              "      <td>...</td>\n",
              "      <td>...</td>\n",
              "      <td>...</td>\n",
              "      <td>...</td>\n",
              "      <td>...</td>\n",
              "      <td>...</td>\n",
              "      <td>...</td>\n",
              "    </tr>\n",
              "    <tr>\n",
              "      <th>1874</th>\n",
              "      <td>1</td>\n",
              "      <td>321</td>\n",
              "      <td>76</td>\n",
              "      <td>8</td>\n",
              "      <td>7</td>\n",
              "      <td>2</td>\n",
              "      <td>0</td>\n",
              "      <td>0</td>\n",
              "      <td>0</td>\n",
              "    </tr>\n",
              "    <tr>\n",
              "      <th>1875</th>\n",
              "      <td>1</td>\n",
              "      <td>397</td>\n",
              "      <td>41</td>\n",
              "      <td>5</td>\n",
              "      <td>5</td>\n",
              "      <td>0</td>\n",
              "      <td>0</td>\n",
              "      <td>0</td>\n",
              "      <td>0</td>\n",
              "    </tr>\n",
              "    <tr>\n",
              "      <th>1876</th>\n",
              "      <td>4</td>\n",
              "      <td>316</td>\n",
              "      <td>41</td>\n",
              "      <td>5</td>\n",
              "      <td>8</td>\n",
              "      <td>1</td>\n",
              "      <td>0</td>\n",
              "      <td>0</td>\n",
              "      <td>0</td>\n",
              "    </tr>\n",
              "    <tr>\n",
              "      <th>1877</th>\n",
              "      <td>2</td>\n",
              "      <td>685</td>\n",
              "      <td>62</td>\n",
              "      <td>1</td>\n",
              "      <td>6</td>\n",
              "      <td>2</td>\n",
              "      <td>0</td>\n",
              "      <td>0</td>\n",
              "      <td>0</td>\n",
              "    </tr>\n",
              "    <tr>\n",
              "      <th>1878</th>\n",
              "      <td>4</td>\n",
              "      <td>1140</td>\n",
              "      <td>38</td>\n",
              "      <td>2</td>\n",
              "      <td>2</td>\n",
              "      <td>3</td>\n",
              "      <td>0</td>\n",
              "      <td>0</td>\n",
              "      <td>0</td>\n",
              "    </tr>\n",
              "  </tbody>\n",
              "</table>\n",
              "<p>1879 rows × 9 columns</p>\n",
              "</div>"
            ],
            "text/plain": [
              "      trustLevel  ...  lineItemVoidsPerPosition\n",
              "0              5  ...                         0\n",
              "1              3  ...                         0\n",
              "2              3  ...                         0\n",
              "3              6  ...                         0\n",
              "4              5  ...                         0\n",
              "...          ...  ...                       ...\n",
              "1874           1  ...                         0\n",
              "1875           1  ...                         0\n",
              "1876           4  ...                         0\n",
              "1877           2  ...                         0\n",
              "1878           4  ...                         0\n",
              "\n",
              "[1879 rows x 9 columns]"
            ]
          },
          "metadata": {
            "tags": []
          },
          "execution_count": 26
        }
      ]
    },
    {
      "cell_type": "code",
      "metadata": {
        "id": "v_9Gg99YpA-a",
        "outputId": "8ac5a61f-a0c0-4642-a339-8d326fc388a7",
        "colab": {
          "base_uri": "https://localhost:8080/",
          "height": 226
        }
      },
      "source": [
        "from sklearn.preprocessing import StandardScaler\r\n",
        "\r\n",
        "scaler = StandardScaler()\r\n",
        "colums = ['trustLevel','totalScanTimeInSeconds','grandTotal','lineItemVoids','scansWithoutRegistration','quantityModifications','scannedLineItemsPerSecond','valuePerSecond','lineItemVoidsPerPosition']\r\n",
        "df_ready[colums] = scaler.fit_transform(df_ready[colums])\r\n",
        "\r\n",
        "df_ready.head()"
      ],
      "execution_count": 27,
      "outputs": [
        {
          "output_type": "execute_result",
          "data": {
            "text/html": [
              "<div>\n",
              "<style scoped>\n",
              "    .dataframe tbody tr th:only-of-type {\n",
              "        vertical-align: middle;\n",
              "    }\n",
              "\n",
              "    .dataframe tbody tr th {\n",
              "        vertical-align: top;\n",
              "    }\n",
              "\n",
              "    .dataframe thead th {\n",
              "        text-align: right;\n",
              "    }\n",
              "</style>\n",
              "<table border=\"1\" class=\"dataframe\">\n",
              "  <thead>\n",
              "    <tr style=\"text-align: right;\">\n",
              "      <th></th>\n",
              "      <th>trustLevel</th>\n",
              "      <th>totalScanTimeInSeconds</th>\n",
              "      <th>grandTotal</th>\n",
              "      <th>lineItemVoids</th>\n",
              "      <th>scansWithoutRegistration</th>\n",
              "      <th>quantityModifications</th>\n",
              "      <th>scannedLineItemsPerSecond</th>\n",
              "      <th>valuePerSecond</th>\n",
              "      <th>lineItemVoidsPerPosition</th>\n",
              "    </tr>\n",
              "  </thead>\n",
              "  <tbody>\n",
              "    <tr>\n",
              "      <th>0</th>\n",
              "      <td>0.935189</td>\n",
              "      <td>0.229898</td>\n",
              "      <td>0.125538</td>\n",
              "      <td>0.443466</td>\n",
              "      <td>-1.562415</td>\n",
              "      <td>0.280068</td>\n",
              "      <td>-0.076406</td>\n",
              "      <td>-0.08093</td>\n",
              "      <td>-0.332514</td>\n",
              "    </tr>\n",
              "    <tr>\n",
              "      <th>1</th>\n",
              "      <td>-0.235121</td>\n",
              "      <td>-1.554996</td>\n",
              "      <td>-0.808049</td>\n",
              "      <td>-0.136202</td>\n",
              "      <td>-0.925241</td>\n",
              "      <td>0.870031</td>\n",
              "      <td>-0.076406</td>\n",
              "      <td>-0.08093</td>\n",
              "      <td>-0.332514</td>\n",
              "    </tr>\n",
              "    <tr>\n",
              "      <th>2</th>\n",
              "      <td>-0.235121</td>\n",
              "      <td>1.101590</td>\n",
              "      <td>0.402157</td>\n",
              "      <td>-0.715870</td>\n",
              "      <td>1.623453</td>\n",
              "      <td>1.459994</td>\n",
              "      <td>-0.076406</td>\n",
              "      <td>-0.08093</td>\n",
              "      <td>-0.332514</td>\n",
              "    </tr>\n",
              "    <tr>\n",
              "      <th>3</th>\n",
              "      <td>1.520344</td>\n",
              "      <td>1.620455</td>\n",
              "      <td>1.439476</td>\n",
              "      <td>0.733300</td>\n",
              "      <td>-0.288068</td>\n",
              "      <td>0.870031</td>\n",
              "      <td>-0.076406</td>\n",
              "      <td>-0.08093</td>\n",
              "      <td>-0.332514</td>\n",
              "    </tr>\n",
              "    <tr>\n",
              "      <th>4</th>\n",
              "      <td>0.935189</td>\n",
              "      <td>-0.947453</td>\n",
              "      <td>1.059125</td>\n",
              "      <td>-0.715870</td>\n",
              "      <td>0.667693</td>\n",
              "      <td>-0.309895</td>\n",
              "      <td>-0.076406</td>\n",
              "      <td>-0.08093</td>\n",
              "      <td>-0.332514</td>\n",
              "    </tr>\n",
              "  </tbody>\n",
              "</table>\n",
              "</div>"
            ],
            "text/plain": [
              "   trustLevel  totalScanTimeInSeconds  ...  valuePerSecond  lineItemVoidsPerPosition\n",
              "0    0.935189                0.229898  ...        -0.08093                 -0.332514\n",
              "1   -0.235121               -1.554996  ...        -0.08093                 -0.332514\n",
              "2   -0.235121                1.101590  ...        -0.08093                 -0.332514\n",
              "3    1.520344                1.620455  ...        -0.08093                 -0.332514\n",
              "4    0.935189               -0.947453  ...        -0.08093                 -0.332514\n",
              "\n",
              "[5 rows x 9 columns]"
            ]
          },
          "metadata": {
            "tags": []
          },
          "execution_count": 27
        }
      ]
    },
    {
      "cell_type": "markdown",
      "metadata": {
        "id": "fIbheAeIs-DW"
      },
      "source": [
        "# Select Feature Target\r\n",
        "Data yang tadinya 1:100 akan diubah menjadi 80:20.\r\n",
        "X sebagai Feature dan Y sebagai Target"
      ]
    },
    {
      "cell_type": "code",
      "metadata": {
        "id": "qJRXS8YntTYU"
      },
      "source": [
        "# Features\r\n",
        "feature = df_ready\r\n",
        "\r\n",
        "# Target\r\n",
        "target = df['fraud']"
      ],
      "execution_count": 28,
      "outputs": []
    },
    {
      "cell_type": "code",
      "metadata": {
        "id": "DEOVCQLBtfV5",
        "outputId": "31f70671-d5ea-46b9-dbe6-a4cd7142b48d",
        "colab": {
          "base_uri": "https://localhost:8080/"
        }
      },
      "source": [
        "# Set Training and Testing Data\r\n",
        "from sklearn.model_selection import train_test_split\r\n",
        "X_train, X_test, y_train, y_test = train_test_split(feature , target, \r\n",
        "                                                    shuffle = True, \r\n",
        "                                                    test_size=0.2, \r\n",
        "                                                    random_state=1)\r\n",
        "\r\n",
        "# Show the Training and Testing Data\r\n",
        "print(X_train.shape)\r\n",
        "print(X_test.shape)\r\n",
        "print(y_train.shape)\r\n",
        "print(y_test.shape)"
      ],
      "execution_count": 29,
      "outputs": [
        {
          "output_type": "stream",
          "text": [
            "(1503, 9)\n",
            "(376, 9)\n",
            "(1503,)\n",
            "(376,)\n"
          ],
          "name": "stdout"
        }
      ]
    },
    {
      "cell_type": "markdown",
      "metadata": {
        "id": "WV_xw9YOtsj5"
      },
      "source": [
        "Hasilnya data training memiliki 1503 rows and 376 untuk data testing."
      ]
    },
    {
      "cell_type": "markdown",
      "metadata": {
        "id": "LTN6n5gQt9cX"
      },
      "source": [
        "# Modeling\r\n",
        "Disini saya akan mencoba membangun 3 model berbeda dengan algoritma berbeda. Pada langkah ini kita akan membuat model dasar untuk setiap algoritma menggunakan parameter default yang ditetapkan oleh sklearn dan setelah membangun semua 3 model, model akan dibandingkan untuk melihat mana yang terbaik untuk kasus ini."
      ]
    },
    {
      "cell_type": "markdown",
      "metadata": {
        "id": "0aFm1gwZt_qa"
      },
      "source": [
        "## Decision Tree"
      ]
    },
    {
      "cell_type": "code",
      "metadata": {
        "id": "KLV5LNipuCgv"
      },
      "source": [
        "# Decision Tree model \r\n",
        "from sklearn import tree\r\n",
        "\r\n",
        "\r\n",
        "dtc = tree.DecisionTreeClassifier(random_state=0)\r\n",
        "dtc.fit(X_train, y_train)\r\n",
        "\r\n",
        " \r\n",
        "y_pred_dtc = dtc.predict(X_test)"
      ],
      "execution_count": 30,
      "outputs": []
    },
    {
      "cell_type": "code",
      "metadata": {
        "id": "yze0-PbfuKsI",
        "outputId": "0aff7116-9279-4743-ebb0-1b7eba69086c",
        "colab": {
          "base_uri": "https://localhost:8080/"
        }
      },
      "source": [
        "from sklearn import metrics\r\n",
        "\r\n",
        "# Display confussion matrix\r\n",
        "dtc_cm = metrics.confusion_matrix(y_test, y_pred_dtc)\r\n",
        "print('Confusion Matrix:\\n', dtc_cm)\r\n",
        "\r\n",
        "# Calculate area under curve (AUC)\r\n",
        "y_pred_dtc_proba = dtc.predict_proba(X_test)[::,1]\r\n",
        "dtc_fpr, dtc_tpr, _ = metrics.roc_curve(y_test,  y_pred_dtc_proba)\r\n",
        "dtc_auc = metrics.roc_auc_score(y_test, y_pred_dtc_proba)\r\n",
        "print('Area Under Curve:', dtc_auc)\r\n",
        "\r\n",
        "# Calculate accuracy, precision, recall, f1-score, and kappa score\r\n",
        "dtc_acc = metrics.accuracy_score(y_test, y_pred_dtc)\r\n",
        "dtc_prec = metrics.precision_score(y_test, y_pred_dtc)\r\n",
        "dtc_rec = metrics.recall_score(y_test, y_pred_dtc)\r\n",
        "dtc_f1 = metrics.f1_score(y_test, y_pred_dtc)\r\n",
        "dtc_kappa = metrics.cohen_kappa_score(y_test, y_pred_dtc)\r\n",
        "\r\n",
        "print('Accuracy:', dtc_acc)\r\n",
        "print('Precision:', dtc_prec)\r\n",
        "print('Recall:', dtc_rec)\r\n",
        "print('F1 Score:', dtc_f1)\r\n",
        "print('Cohens Kappa Score:', dtc_kappa)"
      ],
      "execution_count": 31,
      "outputs": [
        {
          "output_type": "stream",
          "text": [
            "Confusion Matrix:\n",
            " [[339  14]\n",
            " [ 11  12]]\n",
            "Area Under Curve: 0.7410395368887794\n",
            "Accuracy: 0.9335106382978723\n",
            "Precision: 0.46153846153846156\n",
            "Recall: 0.5217391304347826\n",
            "F1 Score: 0.4897959183673469\n",
            "Cohens Kappa Score: 0.4543765962386812\n"
          ],
          "name": "stdout"
        }
      ]
    },
    {
      "cell_type": "markdown",
      "metadata": {
        "id": "vKfwA7--uuQt"
      },
      "source": [
        "## Random Forest"
      ]
    },
    {
      "cell_type": "code",
      "metadata": {
        "id": "77iD9bCEuwwn"
      },
      "source": [
        "from sklearn.ensemble import RandomForestClassifier\r\n",
        "\r\n",
        "# Building Random Forest model \r\n",
        "rf = RandomForestClassifier(random_state=0)\r\n",
        "rf.fit(X_train, y_train)\r\n",
        " \r\n",
        "y_pred_rf = rf.predict(X_test)"
      ],
      "execution_count": 32,
      "outputs": []
    },
    {
      "cell_type": "code",
      "metadata": {
        "id": "XZDYqRJeu10c",
        "outputId": "ffee6931-99fc-427f-ec42-0958d1e848c0",
        "colab": {
          "base_uri": "https://localhost:8080/"
        }
      },
      "source": [
        "# Display confussion matrix\r\n",
        "rf_cm = metrics.confusion_matrix(y_test, y_pred_rf)\r\n",
        "print('Confusion Matrix:\\n', rf_cm)\r\n",
        "\r\n",
        "# Calculate area under curve (AUC)\r\n",
        "y_pred_rf_proba = rf.predict_proba(X_test)[::,1]\r\n",
        "rf_fpr, rf_tpr, _ = metrics.roc_curve(y_test,  y_pred_rf_proba)\r\n",
        "rf_auc = metrics.roc_auc_score(y_test, y_pred_rf_proba)\r\n",
        "print('Area Under Curve:', rf_auc)\r\n",
        "\r\n",
        "# Calculate accuracy, precision, recall, f1-score, and kappa score\r\n",
        "rf_acc = metrics.accuracy_score(y_test, y_pred_rf)\r\n",
        "rf_prec = metrics.precision_score(y_test, y_pred_rf)\r\n",
        "rf_rec = metrics.recall_score(y_test, y_pred_rf)\r\n",
        "rf_f1 = metrics.f1_score(y_test, y_pred_rf)\r\n",
        "rf_kappa = metrics.cohen_kappa_score(y_test, y_pred_rf)\r\n",
        "\r\n",
        "print('Accuracy:', rf_acc)\r\n",
        "print('Precision:', rf_prec)\r\n",
        "print('Recall:', rf_rec)\r\n",
        "print('F1 Score:', rf_f1)\r\n",
        "print('Cohens Kappa Score:', rf_kappa)\r\n",
        "\r\n"
      ],
      "execution_count": 33,
      "outputs": [
        {
          "output_type": "stream",
          "text": [
            "Confusion Matrix:\n",
            " [[346   7]\n",
            " [ 19   4]]\n",
            "Area Under Curve: 0.9350905283901959\n",
            "Accuracy: 0.9308510638297872\n",
            "Precision: 0.36363636363636365\n",
            "Recall: 0.17391304347826086\n",
            "F1 Score: 0.2352941176470588\n",
            "Cohens Kappa Score: 0.20377911712005214\n"
          ],
          "name": "stdout"
        }
      ]
    },
    {
      "cell_type": "markdown",
      "metadata": {
        "id": "1GLyLa_Su9CL"
      },
      "source": [
        "## Naive Bayes\r\n"
      ]
    },
    {
      "cell_type": "code",
      "metadata": {
        "id": "CXRZ1ky_vBJt"
      },
      "source": [
        "from sklearn.naive_bayes import GaussianNB\r\n",
        "\r\n",
        "# Building Naive Bayes model \r\n",
        "nb = GaussianNB()\r\n",
        "nb.fit(X_train, y_train)\r\n",
        "\r\n",
        "\r\n",
        "y_pred_nb = nb.predict(X_test)"
      ],
      "execution_count": 34,
      "outputs": []
    },
    {
      "cell_type": "code",
      "metadata": {
        "id": "meDjX2WevCxu",
        "outputId": "4421e4d4-1af8-4d43-d184-429d94fc043a",
        "colab": {
          "base_uri": "https://localhost:8080/"
        }
      },
      "source": [
        "# Display confussion matrix\r\n",
        "nb_cm = metrics.confusion_matrix(y_test, y_pred_nb)\r\n",
        "print('Confusion Matrix:\\n', nb_cm)\r\n",
        "\r\n",
        "# Calculate area under curve (AUC)\r\n",
        "y_pred_nb_proba = nb.predict_proba(X_test)[::,1]\r\n",
        "nb_fpr, nb_tpr, _ = metrics.roc_curve(y_test,  y_pred_nb_proba)\r\n",
        "nb_auc = metrics.roc_auc_score(y_test, y_pred_nb_proba)\r\n",
        "print('Area Under Curve:', nb_auc)\r\n",
        "\r\n",
        "# Calculate accuracy, precision, recall, f1-score, and kappa score\r\n",
        "nb_acc = metrics.accuracy_score(y_test, y_pred_nb)\r\n",
        "nb_prec = metrics.precision_score(y_test, y_pred_nb)\r\n",
        "nb_rec = metrics.recall_score(y_test, y_pred_nb)\r\n",
        "nb_f1 = metrics.f1_score(y_test, y_pred_nb)\r\n",
        "nb_kappa = metrics.cohen_kappa_score(y_test, y_pred_nb)\r\n",
        "\r\n",
        "print('Accuracy:', nb_acc)\r\n",
        "print('Precision:', nb_prec)\r\n",
        "print('Recall:', nb_rec)\r\n",
        "print('F1 Score:', nb_f1)\r\n",
        "print('Cohens Kappa Score:', nb_kappa)"
      ],
      "execution_count": 35,
      "outputs": [
        {
          "output_type": "stream",
          "text": [
            "Confusion Matrix:\n",
            " [[230 123]\n",
            " [  0  23]]\n",
            "Area Under Curve: 0.9547358049020815\n",
            "Accuracy: 0.6728723404255319\n",
            "Precision: 0.15753424657534246\n",
            "Recall: 1.0\n",
            "F1 Score: 0.27218934911242604\n",
            "Cohens Kappa Score: 0.18617582881678052\n"
          ],
          "name": "stdout"
        }
      ]
    },
    {
      "cell_type": "markdown",
      "metadata": {
        "id": "J1GyC8-tvSWT"
      },
      "source": [
        "# Perbandingan Model\r\n",
        "Setelah membuat semua model , sekarang dapat membandingkan seberapa baik performa setiap model. Untuk melakukan ini maka akan dibuat dua chart, pertama adalah chart batang yang dikelompokkan untuk menampilkan nilai akurasi, presisi, perolehan, f1, dan skor kappa model kita, dan kedua chart garis untuk menunjukkan ABK dari semua model kita."
      ]
    },
    {
      "cell_type": "code",
      "metadata": {
        "id": "34lQ6Yn8vlOy",
        "outputId": "ac50053d-ed28-4137-e3a6-2e9629aca237",
        "colab": {
          "base_uri": "https://localhost:8080/",
          "height": 493
        }
      },
      "source": [
        "import seaborn as sns\r\n",
        "import matplotlib.pyplot as plt\r\n",
        "plt.rcParams['figure.figsize'] = (10, 10)\r\n",
        "plt.style.use('seaborn')\r\n",
        "\r\n",
        "# Intitialize figure with two plots\r\n",
        "fig, (ax1, ax2) = plt.subplots(1, 2)\r\n",
        "fig.suptitle('Perbandingan Model', fontsize=16, fontweight='bold')\r\n",
        "fig.set_figheight(7)\r\n",
        "fig.set_figwidth(14)\r\n",
        "fig.set_facecolor('white')\r\n",
        "\r\n",
        "# First plot\r\n",
        "## set bar size\r\n",
        "barWidth = 0.2\r\n",
        "dtc_score = [dtc_acc, dtc_prec, dtc_rec, dtc_f1, dtc_kappa]\r\n",
        "rf_score = [rf_acc, rf_prec, rf_rec, rf_f1, rf_kappa]\r\n",
        "nb_score = [nb_acc, nb_prec, nb_rec, nb_f1, nb_kappa]\r\n",
        "\r\n",
        "## Set position of bar on X axis\r\n",
        "r1 = np.arange(len(dtc_score))\r\n",
        "r2 = [x + barWidth for x in r1]\r\n",
        "r3 = [x + barWidth for x in r2]\r\n",
        "r4 = [x + barWidth for x in r3]\r\n",
        "\r\n",
        "## Make the plot\r\n",
        "ax1.bar(r1, dtc_score, width=barWidth, edgecolor='white', label='Decision Tree')\r\n",
        "ax1.bar(r2, rf_score, width=barWidth, edgecolor='white', label='Random Forest')\r\n",
        "ax1.bar(r3, nb_score, width=barWidth, edgecolor='white', label='Naive Bayes')\r\n",
        "\r\n",
        "## Configure x and y axis\r\n",
        "ax1.set_xlabel('Metrics', fontweight='bold')\r\n",
        "labels = ['Accuracy', 'Precision', 'Recall', 'F1', 'Kappa']\r\n",
        "ax1.set_xticks([r + (barWidth * 1.5) for r in range(len(dtc_score))], )\r\n",
        "ax1.set_xticklabels(labels)\r\n",
        "ax1.set_ylabel('Score', fontweight='bold')\r\n",
        "ax1.set_ylim(0, 1)\r\n",
        "\r\n",
        "## Create legend & title\r\n",
        "ax1.set_title('Evaluation Metrics', fontsize=14, fontweight='bold')\r\n",
        "ax1.legend()\r\n",
        "\r\n",
        "# Second plot\r\n",
        "## Comparing ROC Curve\r\n",
        "ax2.plot(dtc_fpr, dtc_tpr, label='Decision Tree, auc = {:0.5f}'.format(dtc_auc))\r\n",
        "ax2.plot(rf_fpr, rf_tpr, label='Random Forest, auc = {:0.5f}'.format(rf_auc))\r\n",
        "ax2.plot(nb_fpr, nb_tpr, label='Naive Bayes, auc = {:0.5f}'.format(nb_auc))\r\n",
        "\r\n",
        "## Configure x and y axis\r\n",
        "ax2.set_xlabel('False Positive Rate', fontweight='bold')\r\n",
        "ax2.set_ylabel('True Positive Rate', fontweight='bold')\r\n",
        "\r\n",
        "## Create legend & title\r\n",
        "ax2.set_title('ROC Curve', fontsize=14, fontweight='bold')\r\n",
        "ax2.legend(loc=4)\r\n",
        "\r\n",
        "plt.show()"
      ],
      "execution_count": 38,
      "outputs": [
        {
          "output_type": "display_data",
          "data": {
            "image/png": "[encoded data removed]",
            "text/plain": [
              "<Figure size 1008x504 with 2 Axes>"
            ]
          },
          "metadata": {
            "tags": []
          }
        }
      ]
    },
    {
      "cell_type": "markdown",
      "metadata": {
        "id": "dMe3cumWv7ZV"
      },
      "source": [
        "Dilihat dari gambar di atas, dapat dilihat bahwa model Random Forest berada di puncak model lain dalam 4 dari 6 metrik yang dievaluasi, kecuali recall dan AUC. Jadi kita bisa berasumsi bahwa Random Forest adalah pilihan yang tepat untuk menyelesaikan kasus ini."
      ]
    },
    {
      "cell_type": "markdown",
      "metadata": {
        "id": "TfSc2UqPwg1g"
      },
      "source": [
        "# Tuning Parameter dengan menggunakan Grid Search Cross Validation\r\n",
        "Saya akan menggunakan fungsi `GridSearchCV` dari sklearn untuk menemukan parameter optimal untuk model Random Forest. Saya akan memberikan model dasar dengan nama rf_grids. Fungsi `GridSearchCV` akan mengulangi setiap kombinasi parameter untuk menemukan parameter skor terbaik."
      ]
    },
    {
      "cell_type": "code",
      "metadata": {
        "id": "PLfniY34xThQ",
        "outputId": "9f292d86-6ef4-4f55-df13-4ea74e0ee156",
        "colab": {
          "base_uri": "https://localhost:8080/"
        }
      },
      "source": [
        "from sklearn.model_selection import GridSearchCV\r\n",
        "\r\n",
        "# Create the parameter grid based on the results of random search \r\n",
        "param_grid = {\r\n",
        "    'max_depth': [50, 80, 100],\r\n",
        "    'max_features': [2, 3, 4],\r\n",
        "    'min_samples_leaf': [3, 4, 5],\r\n",
        "    'min_samples_split': [8, 10, 12],\r\n",
        "    'n_estimators': [100, 300, 500, 750, 1000]\r\n",
        "}\r\n",
        "\r\n",
        "# Create a base model\r\n",
        "rf_grids = RandomForestClassifier(random_state=0)\r\n",
        "\r\n",
        "# Initiate the grid search model\r\n",
        "grid_search = GridSearchCV(estimator=rf_grids, param_grid=param_grid, scoring='recall',\r\n",
        "                           cv=5, n_jobs=-1, verbose=2)\r\n",
        "\r\n",
        "# Fit the grid search to the data\r\n",
        "grid_search.fit(X_train, y_train)\r\n",
        "\r\n",
        "grid_search.best_params_"
      ],
      "execution_count": 39,
      "outputs": [
        {
          "output_type": "stream",
          "text": [
            "Fitting 5 folds for each of 405 candidates, totalling 2025 fits\n"
          ],
          "name": "stdout"
        },
        {
          "output_type": "stream",
          "text": [
            "[Parallel(n_jobs=-1)]: Using backend LokyBackend with 2 concurrent workers.\n",
            "[Parallel(n_jobs=-1)]: Done  37 tasks      | elapsed:   26.3s\n",
            "[Parallel(n_jobs=-1)]: Done 158 tasks      | elapsed:  2.0min\n",
            "[Parallel(n_jobs=-1)]: Done 361 tasks      | elapsed:  4.8min\n",
            "[Parallel(n_jobs=-1)]: Done 644 tasks      | elapsed:  8.8min\n",
            "[Parallel(n_jobs=-1)]: Done 1009 tasks      | elapsed: 13.7min\n",
            "[Parallel(n_jobs=-1)]: Done 1454 tasks      | elapsed: 19.8min\n",
            "[Parallel(n_jobs=-1)]: Done 1981 tasks      | elapsed: 27.1min\n",
            "[Parallel(n_jobs=-1)]: Done 2025 out of 2025 | elapsed: 27.8min finished\n"
          ],
          "name": "stderr"
        },
        {
          "output_type": "execute_result",
          "data": {
            "text/plain": [
              "{'max_depth': 50,\n",
              " 'max_features': 4,\n",
              " 'min_samples_leaf': 3,\n",
              " 'min_samples_split': 8,\n",
              " 'n_estimators': 100}"
            ]
          },
          "metadata": {
            "tags": []
          },
          "execution_count": 39
        }
      ]
    },
    {
      "cell_type": "markdown",
      "metadata": {
        "id": "EQv5VJ_exhIs"
      },
      "source": [
        "Setelah menemukan parameter terbaik untuk model, kita dapat mengakses atribut `best_estimator_` dari objek GridSearchCV untuk menyimpan model yang dioptimalkan ke dalam variabel yang disebut` best_grid`. Setelah itu 6 metrik evaluasi akan dibandingkan dengan model awal."
      ]
    },
    {
      "cell_type": "code",
      "metadata": {
        "id": "SyLwz1TuxZNU"
      },
      "source": [
        "best_grid = grid_search.best_estimator_\r\n",
        "best_grid_pred = best_grid.predict(X_test)\r\n",
        "\r\n",
        "# Calculate accuracy, precision, recall, f1-score, and kappa score\r\n",
        "best_grid_acc = metrics.accuracy_score(y_test, best_grid_pred)\r\n",
        "best_grid_prec = metrics.precision_score(y_test, best_grid_pred)\r\n",
        "best_grid_rec = metrics.recall_score(y_test, best_grid_pred)\r\n",
        "best_grid_f1 = metrics.f1_score(y_test, best_grid_pred)\r\n",
        "best_grid_kappa = metrics.cohen_kappa_score(y_test, best_grid_pred)\r\n",
        "\r\n",
        "# Calculate area under curve (AUC)\r\n",
        "best_grid_pred_proba = best_grid.predict_proba(X_test)[::,1]\r\n",
        "best_grid_fpr, best_grid_tpr, _ = metrics.roc_curve(y_test,  best_grid_pred_proba)\r\n",
        "best_grid_auc = metrics.roc_auc_score(y_test, best_grid_pred_proba)"
      ],
      "execution_count": 40,
      "outputs": []
    },
    {
      "cell_type": "markdown",
      "metadata": {
        "id": "rF3ndB1wx-2v"
      },
      "source": [
        "## Perbandingan Model"
      ]
    },
    {
      "cell_type": "code",
      "metadata": {
        "id": "VGZJtiIvyE4L",
        "outputId": "b54e8e72-90fb-4ca5-cdf9-b4e2c1e2237e",
        "colab": {
          "base_uri": "https://localhost:8080/",
          "height": 602
        }
      },
      "source": [
        "# Intitialize figure with two plots\r\n",
        "fig, (ax1, ax2) = plt.subplots(1, 2)\r\n",
        "fig.suptitle('Model Comparison', fontsize=16, fontweight='bold')\r\n",
        "fig.set_figheight(7)\r\n",
        "fig.set_figwidth(14)\r\n",
        "fig.set_facecolor('white')\r\n",
        "\r\n",
        "# First plot\r\n",
        "## set bar size\r\n",
        "barWidth = 0.2\r\n",
        "rf_score = [rf_acc, rf_prec, rf_rec, rf_f1, rf_kappa]\r\n",
        "best_grid_score = [best_grid_acc, best_grid_prec, best_grid_rec, best_grid_f1, best_grid_kappa]    \r\n",
        "\r\n",
        "## Set position of bar on X axis\r\n",
        "r1 = np.arange(len(rf_score))\r\n",
        "r2 = [x + barWidth for x in r1]\r\n",
        "\r\n",
        "## Make the plot\r\n",
        "ax1.bar(r1, rf_score, width=barWidth, edgecolor='white', label='Random Forest (Awal)')\r\n",
        "ax1.bar(r2, best_grid_score, width=barWidth, edgecolor='white', label='Random Forest (Tuning)')\r\n",
        "\r\n",
        "## Add xticks on the middle of the group bars\r\n",
        "ax1.set_xlabel('Metrics', fontweight='bold')\r\n",
        "labels = ['Accuracy', 'Precision', 'Recall', 'F1', 'Kappa']\r\n",
        "ax1.set_xticks([r + (barWidth * 0.5) for r in range(len(dtc_score))], )\r\n",
        "ax1.set_xticklabels(labels)\r\n",
        "ax1.set_ylabel('Score', fontweight='bold')\r\n",
        "# ax1.set_ylim(0, 1)\r\n",
        "\r\n",
        "## Create legend & Show graphic\r\n",
        "ax1.set_title('Evaluation Metrics', fontsize=14, fontweight='bold')\r\n",
        "ax1.legend()\r\n",
        "\r\n",
        "# Second plot\r\n",
        "## Comparing ROC Curve\r\n",
        "ax2.plot(rf_fpr, rf_tpr, label='Random Forest (Awal), auc = {:0.5f}'.format(dtc_auc))\r\n",
        "ax2.plot(best_grid_fpr, best_grid_tpr, label='Random Forest (Tuning), auc = {:0.5f}'.format(rf_auc))\r\n",
        "\r\n",
        "ax2.set_title('ROC Curve', fontsize=14, fontweight='bold')\r\n",
        "ax2.set_xlabel('False Positive Rate', fontweight='bold')\r\n",
        "ax2.set_ylabel('True Positive Rate', fontweight='bold')\r\n",
        "ax2.legend(loc=4)\r\n",
        "\r\n",
        "plt.show()\r\n",
        "\r\n",
        "print('Berubah {:0.2f}% pada accuracy.'.format(100 * (best_grid_acc - rf_acc) / rf_acc))\r\n",
        "print('Berubah {:0.2f}% pada precision.'.format(100 * (best_grid_prec - rf_prec) / rf_prec))\r\n",
        "print('Berubah {:0.2f}% pada recall.'.format(100 * (best_grid_rec - rf_rec) / rf_rec))\r\n",
        "print('Berubah {:0.2f}% pada F1 score.'.format(100 * (best_grid_f1 - rf_f1) / rf_f1))\r\n",
        "print('Berubah {:0.2f}% pada Kappa score.'.format(100 * (best_grid_kappa - rf_kappa) / rf_kappa))\r\n",
        "print('Berubah {:0.2f}% pada AUC.'.format(100 * (best_grid_auc - rf_auc) / rf_auc))"
      ],
      "execution_count": 42,
      "outputs": [
        {
          "output_type": "display_data",
          "data": {
            "image/png": "[encoded data removed]",
            "text/plain": [
              "<Figure size 1008x504 with 2 Axes>"
            ]
          },
          "metadata": {
            "tags": []
          }
        },
        {
          "output_type": "stream",
          "text": [
            "Berubah -0.29% pada accuracy.\n",
            "Berubah -1.79% pada precision.\n",
            "Berubah 25.00% pada recall.\n",
            "Berubah 14.86% pada F1 score.\n",
            "Berubah 15.25% pada Kappa score.\n",
            "Berubah -1.80% pada AUC.\n"
          ],
          "name": "stdout"
        }
      ]
    },
    {
      "cell_type": "markdown",
      "metadata": {
        "id": "pyILekZXygGa"
      },
      "source": [
        "Hasilnya menunjukkan bahwa pengoptimalan sedikit lebih baik daripada model aslinya. Model yang dioptimalkan menunjukkan peningkatan 3 dari 6 metrik tetapi berperforma lebih buruk di metrik lainnya. Karena yang ingin difokuskan pada memprediksi sebanyak mungkin nilai positif aktual, maka akan digunakan model yang sudah dituning karena memiliki skor recall yang lebih tinggi."
      ]
    },
    {
      "cell_type": "markdown",
      "metadata": {
        "id": "VnDRJlam5KAY"
      },
      "source": [
        "# Hasil Akhir\r\n",
        "Pada hasil akhir ini akan diprediksikan hasil yang diharapkan dari semua baris dari dataset sebelumnya"
      ]
    },
    {
      "cell_type": "code",
      "metadata": {
        "id": "F1q0u5OX5V-O",
        "outputId": "f5c6d474-4b5a-4869-cfaf-8f277548a3ab",
        "colab": {
          "base_uri": "https://localhost:8080/",
          "height": 383
        }
      },
      "source": [
        "df ['fraud_prediction'] = rf.predict(feature)\r\n",
        "\r\n",
        "df.head(10)"
      ],
      "execution_count": 44,
      "outputs": [
        {
          "output_type": "execute_result",
          "data": {
            "text/html": [
              "<div>\n",
              "<style scoped>\n",
              "    .dataframe tbody tr th:only-of-type {\n",
              "        vertical-align: middle;\n",
              "    }\n",
              "\n",
              "    .dataframe tbody tr th {\n",
              "        vertical-align: top;\n",
              "    }\n",
              "\n",
              "    .dataframe thead th {\n",
              "        text-align: right;\n",
              "    }\n",
              "</style>\n",
              "<table border=\"1\" class=\"dataframe\">\n",
              "  <thead>\n",
              "    <tr style=\"text-align: right;\">\n",
              "      <th></th>\n",
              "      <th>trustLevel</th>\n",
              "      <th>totalScanTimeInSeconds</th>\n",
              "      <th>grandTotal</th>\n",
              "      <th>lineItemVoids</th>\n",
              "      <th>scansWithoutRegistration</th>\n",
              "      <th>quantityModifications</th>\n",
              "      <th>scannedLineItemsPerSecond</th>\n",
              "      <th>valuePerSecond</th>\n",
              "      <th>lineItemVoidsPerPosition</th>\n",
              "      <th>fraud</th>\n",
              "      <th>fraud_prediction</th>\n",
              "    </tr>\n",
              "  </thead>\n",
              "  <tbody>\n",
              "    <tr>\n",
              "      <th>0</th>\n",
              "      <td>5</td>\n",
              "      <td>1054</td>\n",
              "      <td>54</td>\n",
              "      <td>7</td>\n",
              "      <td>0</td>\n",
              "      <td>3</td>\n",
              "      <td>0</td>\n",
              "      <td>0</td>\n",
              "      <td>0</td>\n",
              "      <td>0</td>\n",
              "      <td>0</td>\n",
              "    </tr>\n",
              "    <tr>\n",
              "      <th>1</th>\n",
              "      <td>3</td>\n",
              "      <td>108</td>\n",
              "      <td>27</td>\n",
              "      <td>5</td>\n",
              "      <td>2</td>\n",
              "      <td>4</td>\n",
              "      <td>0</td>\n",
              "      <td>0</td>\n",
              "      <td>0</td>\n",
              "      <td>0</td>\n",
              "      <td>0</td>\n",
              "    </tr>\n",
              "    <tr>\n",
              "      <th>2</th>\n",
              "      <td>3</td>\n",
              "      <td>1516</td>\n",
              "      <td>62</td>\n",
              "      <td>3</td>\n",
              "      <td>10</td>\n",
              "      <td>5</td>\n",
              "      <td>0</td>\n",
              "      <td>0</td>\n",
              "      <td>0</td>\n",
              "      <td>0</td>\n",
              "      <td>0</td>\n",
              "    </tr>\n",
              "    <tr>\n",
              "      <th>3</th>\n",
              "      <td>6</td>\n",
              "      <td>1791</td>\n",
              "      <td>92</td>\n",
              "      <td>8</td>\n",
              "      <td>4</td>\n",
              "      <td>4</td>\n",
              "      <td>0</td>\n",
              "      <td>0</td>\n",
              "      <td>0</td>\n",
              "      <td>0</td>\n",
              "      <td>0</td>\n",
              "    </tr>\n",
              "    <tr>\n",
              "      <th>4</th>\n",
              "      <td>5</td>\n",
              "      <td>430</td>\n",
              "      <td>81</td>\n",
              "      <td>3</td>\n",
              "      <td>7</td>\n",
              "      <td>2</td>\n",
              "      <td>0</td>\n",
              "      <td>0</td>\n",
              "      <td>0</td>\n",
              "      <td>0</td>\n",
              "      <td>0</td>\n",
              "    </tr>\n",
              "    <tr>\n",
              "      <th>5</th>\n",
              "      <td>1</td>\n",
              "      <td>770</td>\n",
              "      <td>11</td>\n",
              "      <td>11</td>\n",
              "      <td>5</td>\n",
              "      <td>2</td>\n",
              "      <td>0</td>\n",
              "      <td>0</td>\n",
              "      <td>0</td>\n",
              "      <td>1</td>\n",
              "      <td>1</td>\n",
              "    </tr>\n",
              "    <tr>\n",
              "      <th>6</th>\n",
              "      <td>3</td>\n",
              "      <td>294</td>\n",
              "      <td>55</td>\n",
              "      <td>2</td>\n",
              "      <td>7</td>\n",
              "      <td>1</td>\n",
              "      <td>0</td>\n",
              "      <td>0</td>\n",
              "      <td>0</td>\n",
              "      <td>0</td>\n",
              "      <td>0</td>\n",
              "    </tr>\n",
              "    <tr>\n",
              "      <th>7</th>\n",
              "      <td>2</td>\n",
              "      <td>1545</td>\n",
              "      <td>22</td>\n",
              "      <td>0</td>\n",
              "      <td>8</td>\n",
              "      <td>4</td>\n",
              "      <td>0</td>\n",
              "      <td>0</td>\n",
              "      <td>0</td>\n",
              "      <td>0</td>\n",
              "      <td>0</td>\n",
              "    </tr>\n",
              "    <tr>\n",
              "      <th>8</th>\n",
              "      <td>6</td>\n",
              "      <td>962</td>\n",
              "      <td>65</td>\n",
              "      <td>7</td>\n",
              "      <td>0</td>\n",
              "      <td>2</td>\n",
              "      <td>0</td>\n",
              "      <td>0</td>\n",
              "      <td>0</td>\n",
              "      <td>0</td>\n",
              "      <td>0</td>\n",
              "    </tr>\n",
              "    <tr>\n",
              "      <th>9</th>\n",
              "      <td>2</td>\n",
              "      <td>725</td>\n",
              "      <td>41</td>\n",
              "      <td>10</td>\n",
              "      <td>2</td>\n",
              "      <td>4</td>\n",
              "      <td>0</td>\n",
              "      <td>0</td>\n",
              "      <td>0</td>\n",
              "      <td>0</td>\n",
              "      <td>0</td>\n",
              "    </tr>\n",
              "  </tbody>\n",
              "</table>\n",
              "</div>"
            ],
            "text/plain": [
              "   trustLevel  totalScanTimeInSeconds  ...  fraud  fraud_prediction\n",
              "0           5                    1054  ...      0                 0\n",
              "1           3                     108  ...      0                 0\n",
              "2           3                    1516  ...      0                 0\n",
              "3           6                    1791  ...      0                 0\n",
              "4           5                     430  ...      0                 0\n",
              "5           1                     770  ...      1                 1\n",
              "6           3                     294  ...      0                 0\n",
              "7           2                    1545  ...      0                 0\n",
              "8           6                     962  ...      0                 0\n",
              "9           2                     725  ...      0                 0\n",
              "\n",
              "[10 rows x 11 columns]"
            ]
          },
          "metadata": {
            "tags": []
          },
          "execution_count": 44
        }
      ]
    },
    {
      "cell_type": "markdown",
      "metadata": {
        "id": "NcL7apmp6IM0"
      },
      "source": [
        "# Kesimpulan"
      ]
    },
    {
      "cell_type": "code",
      "metadata": {
        "id": "2Z4plouw6HUV",
        "outputId": "31467c5d-e27d-416d-c894-8881366c80da",
        "colab": {
          "base_uri": "https://localhost:8080/"
        }
      },
      "source": [
        "# Calculate accuracy, precision, recall, f1-score, and kappa score\r\n",
        "best_grid_acc = metrics.accuracy_score(y_test, best_grid_pred)\r\n",
        "best_grid_prec = metrics.precision_score(y_test, best_grid_pred)\r\n",
        "best_grid_rec = metrics.recall_score(y_test, best_grid_pred)\r\n",
        "best_grid_f1 = metrics.f1_score(y_test, best_grid_pred)\r\n",
        "best_grid_kappa = metrics.cohen_kappa_score(y_test, best_grid_pred)\r\n",
        "\r\n",
        "# Calculate area under curve (AUC)\r\n",
        "best_grid_pred_proba = best_grid.predict_proba(X_test)[::,1]\r\n",
        "best_grid_fpr, best_grid_tpr, _ = metrics.roc_curve(y_test,  best_grid_pred_proba)\r\n",
        "best_grid_auc = metrics.roc_auc_score(y_test, best_grid_pred_proba)\r\n",
        "\r\n",
        "print('Accuracy:', best_grid_acc)\r\n",
        "print('Precision:', best_grid_prec)\r\n",
        "print('Recall:', best_grid_rec)\r\n",
        "print('F1 Score:', best_grid_f1)\r\n",
        "print('Cohens Kappa Score:', best_grid_kappa)\r\n",
        "\r\n"
      ],
      "execution_count": 45,
      "outputs": [
        {
          "output_type": "stream",
          "text": [
            "Accuracy: 0.9281914893617021\n",
            "Precision: 0.35714285714285715\n",
            "Recall: 0.21739130434782608\n",
            "F1 Score: 0.27027027027027023\n",
            "Cohens Kappa Score: 0.2348507687669582\n"
          ],
          "name": "stdout"
        }
      ]
    },
    {
      "cell_type": "markdown",
      "metadata": {
        "id": "3TFeuKdD5nSl"
      },
      "source": [
        "Untuk model sederhana, dapat dilihat bahwa model kita melakukan klasifikasi data dengan baik dan sudah dioptimalkan menggunakan `GridSearchCV` yang berarti mencapai batas dengan model ini."
      ]
    }
  ]
}